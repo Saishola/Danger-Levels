{
 "cells": [
  {
   "cell_type": "code",
   "execution_count": 1,
   "id": "3a786d1f",
   "metadata": {},
   "outputs": [],
   "source": [
    "#Importing all the required libraries\n",
    "import pandas as pd \n",
    "import matplotlib.pyplot as plt\n",
    "import numpy as np\n",
    "from sklearn.model_selection import train_test_split\n",
    "from matplotlib.colors import ListedColormap\n",
    "from sklearn.preprocessing import StandardScaler\n",
    "from sklearn.pipeline import make_pipeline\n",
    "from sklearn.metrics import accuracy_score\n",
    "from sklearn.utils import resample\n",
    "from collections import Counter\n",
    "from imblearn.over_sampling import RandomOverSampler\n",
    "from sklearn.model_selection import StratifiedKFold\n",
    "from sklearn.svm import SVC\n",
    "from sklearn.metrics import accuracy_score, roc_auc_score, precision_score,recall_score\\\n",
    ",f1_score,classification_report,confusion_matrix\n",
    "import seaborn as sns\n",
    "from sklearn.neighbors import KNeighborsClassifier"
   ]
  },
  {
   "cell_type": "code",
   "execution_count": 2,
   "id": "a1c41712",
   "metadata": {},
   "outputs": [
    {
     "data": {
      "text/html": [
       "<div>\n",
       "<style scoped>\n",
       "    .dataframe tbody tr th:only-of-type {\n",
       "        vertical-align: middle;\n",
       "    }\n",
       "\n",
       "    .dataframe tbody tr th {\n",
       "        vertical-align: top;\n",
       "    }\n",
       "\n",
       "    .dataframe thead th {\n",
       "        text-align: right;\n",
       "    }\n",
       "</style>\n",
       "<table border=\"1\" class=\"dataframe\">\n",
       "  <thead>\n",
       "    <tr style=\"text-align: right;\">\n",
       "      <th></th>\n",
       "      <th>Mean 060 (°C)</th>\n",
       "      <th>54: TC_Smoke (°C)</th>\n",
       "      <th>187: CO_room (ppm)</th>\n",
       "      <th>labels</th>\n",
       "    </tr>\n",
       "  </thead>\n",
       "  <tbody>\n",
       "    <tr>\n",
       "      <th>0</th>\n",
       "      <td>9.643126</td>\n",
       "      <td>8.613041</td>\n",
       "      <td>695.565623</td>\n",
       "      <td>safe</td>\n",
       "    </tr>\n",
       "    <tr>\n",
       "      <th>1</th>\n",
       "      <td>9.638108</td>\n",
       "      <td>8.614577</td>\n",
       "      <td>693.682888</td>\n",
       "      <td>safe</td>\n",
       "    </tr>\n",
       "    <tr>\n",
       "      <th>2</th>\n",
       "      <td>9.629587</td>\n",
       "      <td>8.612079</td>\n",
       "      <td>686.368593</td>\n",
       "      <td>safe</td>\n",
       "    </tr>\n",
       "    <tr>\n",
       "      <th>3</th>\n",
       "      <td>9.633649</td>\n",
       "      <td>8.603408</td>\n",
       "      <td>690.206866</td>\n",
       "      <td>safe</td>\n",
       "    </tr>\n",
       "    <tr>\n",
       "      <th>4</th>\n",
       "      <td>10.224093</td>\n",
       "      <td>8.608649</td>\n",
       "      <td>704.980179</td>\n",
       "      <td>safe</td>\n",
       "    </tr>\n",
       "    <tr>\n",
       "      <th>...</th>\n",
       "      <td>...</td>\n",
       "      <td>...</td>\n",
       "      <td>...</td>\n",
       "      <td>...</td>\n",
       "    </tr>\n",
       "    <tr>\n",
       "      <th>65885</th>\n",
       "      <td>762.177943</td>\n",
       "      <td>35.854659</td>\n",
       "      <td>561.929191</td>\n",
       "      <td>danger</td>\n",
       "    </tr>\n",
       "    <tr>\n",
       "      <th>65886</th>\n",
       "      <td>762.140202</td>\n",
       "      <td>35.787602</td>\n",
       "      <td>561.493785</td>\n",
       "      <td>danger</td>\n",
       "    </tr>\n",
       "    <tr>\n",
       "      <th>65887</th>\n",
       "      <td>762.108967</td>\n",
       "      <td>35.693921</td>\n",
       "      <td>579.051064</td>\n",
       "      <td>danger</td>\n",
       "    </tr>\n",
       "    <tr>\n",
       "      <th>65888</th>\n",
       "      <td>762.075566</td>\n",
       "      <td>35.595093</td>\n",
       "      <td>576.439508</td>\n",
       "      <td>danger</td>\n",
       "    </tr>\n",
       "    <tr>\n",
       "      <th>65889</th>\n",
       "      <td>762.044406</td>\n",
       "      <td>35.569574</td>\n",
       "      <td>569.692250</td>\n",
       "      <td>danger</td>\n",
       "    </tr>\n",
       "  </tbody>\n",
       "</table>\n",
       "<p>65890 rows × 4 columns</p>\n",
       "</div>"
      ],
      "text/plain": [
       "       Mean 060 (°C)  54: TC_Smoke (°C)  187: CO_room (ppm)  labels\n",
       "0           9.643126           8.613041          695.565623    safe\n",
       "1           9.638108           8.614577          693.682888    safe\n",
       "2           9.629587           8.612079          686.368593    safe\n",
       "3           9.633649           8.603408          690.206866    safe\n",
       "4          10.224093           8.608649          704.980179    safe\n",
       "...              ...                ...                 ...     ...\n",
       "65885     762.177943          35.854659          561.929191  danger\n",
       "65886     762.140202          35.787602          561.493785  danger\n",
       "65887     762.108967          35.693921          579.051064  danger\n",
       "65888     762.075566          35.595093          576.439508  danger\n",
       "65889     762.044406          35.569574          569.692250  danger\n",
       "\n",
       "[65890 rows x 4 columns]"
      ]
     },
     "execution_count": 2,
     "metadata": {},
     "output_type": "execute_result"
    }
   ],
   "source": [
    "#Downloading the dataset\n",
    "df = pd.read_excel(\"env_data.xlsx\")\n",
    "\n",
    "#Remove temperature readings at 260cm\n",
    "df = df.drop(['Mean 260 (°C)'], axis=1)\n",
    "df"
   ]
  },
  {
   "cell_type": "code",
   "execution_count": 3,
   "id": "3c38dff2",
   "metadata": {},
   "outputs": [
    {
     "name": "stdout",
     "output_type": "stream",
     "text": [
      "Number of safe, caution and danger respectively in target: [ 9532 11924 44434]\n"
     ]
    }
   ],
   "source": [
    "# Mapping non-numeric columnns (ie target column)\n",
    "target_mapping = {'danger':2, 'caution':1, 'safe':0}\n",
    "\n",
    "df['labels'] = df['labels'].map(target_mapping)\n",
    "\n",
    "# Separating data & target information\n",
    "X = df.iloc[:, :3]\n",
    "y = df.iloc [:, -1]\n",
    "\n",
    "print('Number of safe, caution and danger respectively in target:', np.bincount(y))"
   ]
  },
  {
   "cell_type": "code",
   "execution_count": 4,
   "id": "36651224",
   "metadata": {},
   "outputs": [
    {
     "name": "stdout",
     "output_type": "stream",
     "text": [
      "Training target statistics: Counter({2: 31104, 1: 8347, 0: 6672})\n",
      "Testing target statistics: Counter({2: 13330, 1: 3577, 0: 2860})\n"
     ]
    }
   ],
   "source": [
    "#Split dataset into training and testing dataset\n",
    "X_train, X_test, y_train, y_test = train_test_split(X, y, test_size=0.3, random_state=1, shuffle=True, stratify=y)\n",
    "print(f\"Training target statistics: {Counter(y_train)}\")\n",
    "print(f\"Testing target statistics: {Counter(y_test)}\")"
   ]
  },
  {
   "cell_type": "code",
   "execution_count": 5,
   "id": "4b32ef07",
   "metadata": {},
   "outputs": [
    {
     "name": "stdout",
     "output_type": "stream",
     "text": [
      "Training target statistics: Counter({1: 31104, 0: 31104, 2: 31104})\n",
      "Testing target statistics: Counter({2: 13330, 1: 3577, 0: 2860})\n"
     ]
    }
   ],
   "source": [
    "#Balance the train split\n",
    "over_sampler = RandomOverSampler(random_state=1)\n",
    "X_res, y_res = over_sampler.fit_resample(X_train, y_train)\n",
    "print(f\"Training target statistics: {Counter(y_res)}\")\n",
    "print(f\"Testing target statistics: {Counter(y_test)}\")"
   ]
  },
  {
   "cell_type": "code",
   "execution_count": 6,
   "id": "151a5fd2",
   "metadata": {},
   "outputs": [],
   "source": [
    "#Pipeline for KNN model\n",
    "pipe_knn = make_pipeline(StandardScaler(),\n",
    "                             KNeighborsClassifier(n_neighbors = 5, p=1, metric='euclidean'),\n",
    "                            )"
   ]
  },
  {
   "cell_type": "code",
   "execution_count": 7,
   "id": "151b613b",
   "metadata": {},
   "outputs": [],
   "source": [
    "# Cross validation (cv)\n",
    "k_fold = StratifiedKFold(n_splits=10)"
   ]
  },
  {
   "cell_type": "code",
   "execution_count": 8,
   "id": "f180c5b9",
   "metadata": {},
   "outputs": [],
   "source": [
    "#create a function that trains the model and returns result using stratified 10 folds cv\n",
    "def train_model(X_res, y_res, classifier_pipeline):\n",
    "\n",
    "    training_result = []\n",
    "    validation_result=[]\n",
    "\n",
    "    i=1\n",
    "    for  train_index, val_index in k_fold.split(X_res, y_res):\n",
    "        X_res_fold, y_res_fold = X_res.values[train_index,:], y_res.values[train_index]\n",
    "        X_val_fold, y_val_fold = X_res.values[val_index,:], y_res.values[val_index]\n",
    "\n",
    "        #for each fold: training a logistic regression model using the \n",
    "        #pipeline of steps\n",
    "        classifier_pipeline.fit(X_res_fold, y_res_fold)\n",
    "\n",
    "        #get predictions and predictions probabilities\n",
    "        y_res_predictions=classifier_pipeline.predict(X_res_fold)\n",
    "        y_val_predictions = classifier_pipeline.predict(X_val_fold)\n",
    "\n",
    "        y_res_probabilities= classifier_pipeline.predict_proba(X_res_fold)\n",
    "        y_val_probabilities= classifier_pipeline.predict_proba(X_val_fold)\n",
    "\n",
    "        #print auc score \n",
    "        train_auc = roc_auc_score(y_res_fold,y_res_probabilities, multi_class=\"ovr\")\n",
    "        valid_auc = roc_auc_score(y_val_fold, y_val_probabilities, multi_class=\"ovr\")\n",
    "\n",
    "        print(f\"train auc score:{train_auc:.2f}, validation auc score:{valid_auc:.2f}\")\n",
    "\n",
    "        #get accuracy score\n",
    "        train_acc = accuracy_score(y_res_fold, y_res_predictions)\n",
    "        val_acc = accuracy_score(y_val_fold, y_val_predictions)\n",
    "\n",
    "        training_result.append([train_auc,train_acc])\n",
    "        validation_result.append([valid_auc,val_acc])\n",
    "        print(f\"train_accuracy:{train_acc:.2f}, validation_accuracy:{val_acc:.2f}\")\n",
    "\n",
    "        print(\"\\n\")\n",
    "        print(f\"fold{i} completed\")\n",
    "        i+=1\n",
    "    \n",
    "    return training_result, validation_result"
   ]
  },
  {
   "cell_type": "code",
   "execution_count": 9,
   "id": "e672e71c",
   "metadata": {},
   "outputs": [
    {
     "name": "stdout",
     "output_type": "stream",
     "text": [
      "train auc score:1.00, validation auc score:1.00\n",
      "train_accuracy:1.00, validation_accuracy:1.00\n",
      "\n",
      "\n",
      "fold1 completed\n",
      "train auc score:1.00, validation auc score:1.00\n",
      "train_accuracy:1.00, validation_accuracy:1.00\n",
      "\n",
      "\n",
      "fold2 completed\n",
      "train auc score:1.00, validation auc score:1.00\n",
      "train_accuracy:1.00, validation_accuracy:1.00\n",
      "\n",
      "\n",
      "fold3 completed\n",
      "train auc score:1.00, validation auc score:1.00\n",
      "train_accuracy:1.00, validation_accuracy:1.00\n",
      "\n",
      "\n",
      "fold4 completed\n",
      "train auc score:1.00, validation auc score:1.00\n",
      "train_accuracy:1.00, validation_accuracy:1.00\n",
      "\n",
      "\n",
      "fold5 completed\n",
      "train auc score:1.00, validation auc score:1.00\n",
      "train_accuracy:1.00, validation_accuracy:1.00\n",
      "\n",
      "\n",
      "fold6 completed\n",
      "train auc score:1.00, validation auc score:1.00\n",
      "train_accuracy:1.00, validation_accuracy:1.00\n",
      "\n",
      "\n",
      "fold7 completed\n",
      "train auc score:1.00, validation auc score:1.00\n",
      "train_accuracy:1.00, validation_accuracy:1.00\n",
      "\n",
      "\n",
      "fold8 completed\n",
      "train auc score:1.00, validation auc score:1.00\n",
      "train_accuracy:1.00, validation_accuracy:1.00\n",
      "\n",
      "\n",
      "fold9 completed\n",
      "train auc score:1.00, validation auc score:1.00\n",
      "train_accuracy:1.00, validation_accuracy:1.00\n",
      "\n",
      "\n",
      "fold10 completed\n",
      "\n",
      "\n",
      "Result Summary\n",
      "Average Train auc :1.00+/-0.00\n",
      "Average validation auc :1.00+/-0.00\n",
      "Average Train accuracy :1.00+/-0.00\n",
      "Average validation accuracy :1.00+/-0.00\n"
     ]
    }
   ],
   "source": [
    "#train model\n",
    "training_result, validation_result=train_model(X_res, y_res, pipe_knn)\n",
    "    \n",
    "print(\"\\n\")\n",
    "print(\"Result Summary\")\n",
    "print(f\"Average Train auc :{np.mean([value[0]for value in training_result]):.2f}+/-{np.std([value[0]for value in training_result]):.2f}\")\n",
    "      \n",
    "print(f\"Average validation auc :{np.mean([value[0]for value in validation_result]):.2f}+/-{np.std([value[0]for value in validation_result]):.2f}\")\n",
    "\n",
    "print(f\"Average Train accuracy :{np.mean([value[1]for value in training_result]):.2f}+/-{np.std([value[1]for value in training_result]):.2f}\")\n",
    "      \n",
    "print(f\"Average validation accuracy :{np.mean([value[1]for value in validation_result]):.2f}+/-{np.std([value[1]for value in validation_result]):.2f}\")"
   ]
  },
  {
   "cell_type": "code",
   "execution_count": 10,
   "id": "55dd9e08",
   "metadata": {},
   "outputs": [],
   "source": [
    "#retrain with best parameters\n",
    "pipe_knn.fit(X_res,y_res)\n",
    "\n",
    "y_test_pred = pipe_knn.predict(X_test)\n",
    "y_test_probabilities = pipe_knn.predict_proba(X_test)"
   ]
  },
  {
   "cell_type": "code",
   "execution_count": 11,
   "id": "1832535f",
   "metadata": {},
   "outputs": [
    {
     "data": {
      "text/plain": [
       "0.9974705316942378"
      ]
     },
     "execution_count": 11,
     "metadata": {},
     "output_type": "execute_result"
    }
   ],
   "source": [
    "accuracy_score(y_test,y_test_pred)"
   ]
  },
  {
   "cell_type": "code",
   "execution_count": 12,
   "id": "4843c45d",
   "metadata": {},
   "outputs": [
    {
     "name": "stdout",
     "output_type": "stream",
     "text": [
      "              precision    recall  f1-score   support\n",
      "\n",
      "           0       1.00      1.00      1.00      2860\n",
      "           1       0.99      1.00      0.99      3577\n",
      "           2       1.00      1.00      1.00     13330\n",
      "\n",
      "    accuracy                           1.00     19767\n",
      "   macro avg       1.00      1.00      1.00     19767\n",
      "weighted avg       1.00      1.00      1.00     19767\n",
      "\n",
      "Misclassified samples: 50\n"
     ]
    }
   ],
   "source": [
    "print(classification_report(y_test, y_test_pred))\n",
    "print('Misclassified samples: %d' % (y_test != y_test_pred).sum())"
   ]
  },
  {
   "cell_type": "code",
   "execution_count": 13,
   "id": "6051b92c",
   "metadata": {},
   "outputs": [
    {
     "data": {
      "text/plain": [
       "array([[ 2850,    10,     0],\n",
       "       [   11,  3566,     0],\n",
       "       [    0,    29, 13301]])"
      ]
     },
     "execution_count": 13,
     "metadata": {},
     "output_type": "execute_result"
    }
   ],
   "source": [
    "confusion_matrix(y_test,y_test_pred)"
   ]
  },
  {
   "cell_type": "code",
   "execution_count": 14,
   "id": "d5cb71d6",
   "metadata": {},
   "outputs": [
    {
     "data": {
      "image/png": "[encoded data removed]",
      "text/plain": [
       "<Figure size 432x288 with 2 Axes>"
      ]
     },
     "metadata": {
      "needs_background": "light"
     },
     "output_type": "display_data"
    }
   ],
   "source": [
    "import seaborn as sns\n",
    "#Confusion Matrix\n",
    "from sklearn.metrics import confusion_matrix\n",
    "from sklearn.metrics import f1_score\n",
    "from sklearn.metrics import precision_score\n",
    "\n",
    "class_names = np.unique(y_test)\n",
    "target_names = ['safe', 'caution', 'danger']\n",
    "confmat = confusion_matrix(y_test, y_test_pred, labels=class_names)\n",
    "categories = ['safe', 'caution', 'danger']\n",
    "sns.heatmap(confmat, annot=True, fmt=\"d\",cmap='Blues', xticklabels= categories, yticklabels=categories)\n",
    "plt.savefig('kNN.png', dpi=300, bbox_inches='tight')\n",
    "plt.show()"
   ]
  },
  {
   "cell_type": "markdown",
   "id": "7ddbaa88",
   "metadata": {},
   "source": [
    "# Test "
   ]
  },
  {
   "cell_type": "code",
   "execution_count": 15,
   "id": "21e7288b",
   "metadata": {},
   "outputs": [],
   "source": [
    "# Importing the dataset\n",
    "#Downloading the dataset, creating dataframe\n",
    "df3 = pd.read_excel(\"Exp2_mean.xlsx\")\n",
    "df3 = df3.drop(['Mean 260 (°C)'], axis=1)"
   ]
  },
  {
   "cell_type": "code",
   "execution_count": 16,
   "id": "d67a46db",
   "metadata": {},
   "outputs": [
    {
     "name": "stdout",
     "output_type": "stream",
     "text": [
      "Number of safe, caution and danger respectively in target: [2433 4066 9995]\n"
     ]
    }
   ],
   "source": [
    "# Mapping non-numeric columnns (ie target column)\n",
    "target_mapping = {'danger':2, 'caution':1, 'safe':0}\n",
    "\n",
    "df3['labels'] = df3['labels'].map(target_mapping)\n",
    "\n",
    "# Separating data & target information\n",
    "X3 = df3.iloc[:, :3]\n",
    "y3 = df3.iloc [:, -1]\n",
    "\n",
    "print('Number of safe, caution and danger respectively in target:', np.bincount(y3))"
   ]
  },
  {
   "cell_type": "code",
   "execution_count": 17,
   "id": "05b75163",
   "metadata": {},
   "outputs": [
    {
     "name": "stdout",
     "output_type": "stream",
     "text": [
      "0.9981205286770947\n",
      "              precision    recall  f1-score   support\n",
      "\n",
      "           0       1.00      1.00      1.00      2433\n",
      "           1       0.99      1.00      1.00      4066\n",
      "           2       1.00      1.00      1.00      9995\n",
      "\n",
      "    accuracy                           1.00     16494\n",
      "   macro avg       1.00      1.00      1.00     16494\n",
      "weighted avg       1.00      1.00      1.00     16494\n",
      "\n",
      "Misclassified samples: 31\n"
     ]
    },
    {
     "data": {
      "text/plain": [
       "array([[2431,    2,    0],\n",
       "       [   7, 4059,    0],\n",
       "       [   0,   22, 9973]])"
      ]
     },
     "execution_count": 17,
     "metadata": {},
     "output_type": "execute_result"
    }
   ],
   "source": [
    "y_test2_pred = pipe_knn.predict(X3)\n",
    "\n",
    "accuracy_score(y3, y_test2_pred)\n",
    "\n",
    "print(accuracy_score(y3, y_test2_pred))\n",
    "print(classification_report(y3, y_test2_pred))\n",
    "print('Misclassified samples: %d' % (y3 != y_test2_pred).sum())\n",
    "\n",
    "confusion_matrix(y3, y_test2_pred)"
   ]
  },
  {
   "cell_type": "code",
   "execution_count": 18,
   "id": "6dd8a56d",
   "metadata": {},
   "outputs": [
    {
     "data": {
      "image/png": "[encoded data removed]",
      "text/plain": [
       "<Figure size 432x288 with 2 Axes>"
      ]
     },
     "metadata": {
      "needs_background": "light"
     },
     "output_type": "display_data"
    }
   ],
   "source": [
    "class_names = np.unique(y3)\n",
    "target_names = ['safe', 'caution', 'danger']\n",
    "confmat = confusion_matrix(y3, y_test2_pred, labels=class_names)\n",
    "categories = ['safe', 'caution', 'danger']\n",
    "sns.heatmap(confmat, annot=True, fmt=\"d\",cmap='Blues', xticklabels= categories, yticklabels=categories)\n",
    "plt.savefig('plt.png', dpi=300, bbox_inches='tight')\n",
    "plt.show()"
   ]
  },
  {
   "cell_type": "code",
   "execution_count": 19,
   "id": "1a69326e",
   "metadata": {},
   "outputs": [],
   "source": [
    "# Importing the dataset\n",
    "#Downloading the dataset, creating dataframe\n",
    "df4 = pd.read_excel(\"Data_Gen_Exp1_2.xlsx\")\n",
    "df4 = df4.drop(['260 (°C)'], axis=1)"
   ]
  },
  {
   "cell_type": "code",
   "execution_count": 20,
   "id": "85538512",
   "metadata": {},
   "outputs": [
    {
     "name": "stdout",
     "output_type": "stream",
     "text": [
      "Number of safe, caution and danger respectively in target: [1328 6539 3892]\n"
     ]
    }
   ],
   "source": [
    "# Mapping non-numeric columnns (ie target column)\n",
    "target_mapping = {'danger':2, 'caution':1, 'safe':0}\n",
    "\n",
    "df4['labels'] = df4['labels'].map(target_mapping)\n",
    "\n",
    "# Separating data & target information\n",
    "X4 = df4.iloc[:, :3]\n",
    "y4 = df4.iloc [:, -1]\n",
    "\n",
    "print('Number of safe, caution and danger respectively in target:', np.bincount(y4))"
   ]
  },
  {
   "cell_type": "code",
   "execution_count": 21,
   "id": "4e521f4c",
   "metadata": {},
   "outputs": [
    {
     "name": "stderr",
     "output_type": "stream",
     "text": [
      "/Users/adenreleishola/opt/anaconda3/envs/tfs/lib/python3.7/site-packages/sklearn/base.py:493: FutureWarning: The feature names should match those that were passed during fit. Starting version 1.2, an error will be raised.\n",
      "Feature names unseen at fit time:\n",
      "- 060 (°C)\n",
      "Feature names seen at fit time, yet now missing:\n",
      "- Mean 060 (°C)\n",
      "\n",
      "  warnings.warn(message, FutureWarning)\n"
     ]
    },
    {
     "name": "stdout",
     "output_type": "stream",
     "text": [
      "0.963687388383366\n",
      "              precision    recall  f1-score   support\n",
      "\n",
      "           0       0.99      0.99      0.99      1328\n",
      "           1       0.97      0.97      0.97      6539\n",
      "           2       0.95      0.95      0.95      3892\n",
      "\n",
      "    accuracy                           0.96     11759\n",
      "   macro avg       0.97      0.97      0.97     11759\n",
      "weighted avg       0.96      0.96      0.96     11759\n",
      "\n",
      "Misclassified samples: 427\n"
     ]
    },
    {
     "data": {
      "text/plain": [
       "array([[1314,   14,    0],\n",
       "       [   7, 6328,  204],\n",
       "       [   0,  202, 3690]])"
      ]
     },
     "execution_count": 21,
     "metadata": {},
     "output_type": "execute_result"
    }
   ],
   "source": [
    "y_test3_pred = pipe_knn.predict(X4)\n",
    "\n",
    "accuracy_score(y4, y_test3_pred)\n",
    "\n",
    "print(accuracy_score(y4, y_test3_pred))\n",
    "print(classification_report(y4, y_test3_pred))\n",
    "print('Misclassified samples: %d' % (y4 != y_test3_pred).sum())\n",
    "\n",
    "confusion_matrix(y4, y_test3_pred)"
   ]
  },
  {
   "cell_type": "code",
   "execution_count": 22,
   "id": "4734efde",
   "metadata": {},
   "outputs": [
    {
     "data": {
      "image/png": "[encoded data removed]",
      "text/plain": [
       "<Figure size 432x288 with 2 Axes>"
      ]
     },
     "metadata": {
      "needs_background": "light"
     },
     "output_type": "display_data"
    }
   ],
   "source": [
    "class_names = np.unique(y4)\n",
    "target_names = ['safe', 'caution', 'danger']\n",
    "confmat = confusion_matrix(y4, y_test3_pred, labels=class_names)\n",
    "categories = ['safe', 'caution', 'danger']\n",
    "sns.heatmap(confmat, annot=True, fmt=\"d\",cmap='Blues', xticklabels= categories, yticklabels=categories)\n",
    "plt.savefig('plt.png', dpi=300, bbox_inches='tight')\n",
    "plt.show()"
   ]
  },
  {
   "cell_type": "code",
   "execution_count": 23,
   "id": "f2f845a0",
   "metadata": {},
   "outputs": [],
   "source": [
    "# Importing the dataset\n",
    "#Downloading the dataset, creating dataframe\n",
    "df5 = pd.read_excel(\"Data_Gen_Exp3_8.xlsx\")\n",
    "df5 = df5.drop(['260 (°C)'], axis=1)"
   ]
  },
  {
   "cell_type": "code",
   "execution_count": 24,
   "id": "17d8a73b",
   "metadata": {},
   "outputs": [
    {
     "name": "stdout",
     "output_type": "stream",
     "text": [
      "Number of safe, caution and danger respectively in target: [ 2718  3756 10020]\n"
     ]
    }
   ],
   "source": [
    "# Mapping non-numeric columnns (ie target column)\n",
    "target_mapping = {'danger':2, 'caution':1, 'safe':0}\n",
    "\n",
    "df5['labels'] = df5['labels'].map(target_mapping)\n",
    "\n",
    "# Separating data & target information\n",
    "X5 = df5.iloc[:, :3]\n",
    "y5 = df5.iloc [:, -1]\n",
    "\n",
    "print('Number of safe, caution and danger respectively in target:', np.bincount(y5))"
   ]
  },
  {
   "cell_type": "code",
   "execution_count": 25,
   "id": "24ab0c7c",
   "metadata": {},
   "outputs": [
    {
     "name": "stderr",
     "output_type": "stream",
     "text": [
      "/Users/adenreleishola/opt/anaconda3/envs/tfs/lib/python3.7/site-packages/sklearn/base.py:493: FutureWarning: The feature names should match those that were passed during fit. Starting version 1.2, an error will be raised.\n",
      "Feature names unseen at fit time:\n",
      "- 060 (°C)\n",
      "Feature names seen at fit time, yet now missing:\n",
      "- Mean 060 (°C)\n",
      "\n",
      "  warnings.warn(message, FutureWarning)\n"
     ]
    },
    {
     "name": "stdout",
     "output_type": "stream",
     "text": [
      "0.930095792409361\n",
      "              precision    recall  f1-score   support\n",
      "\n",
      "           0       0.89      0.87      0.88      2718\n",
      "           1       0.83      0.91      0.87      3756\n",
      "           2       0.98      0.95      0.97     10020\n",
      "\n",
      "    accuracy                           0.93     16494\n",
      "   macro avg       0.90      0.91      0.91     16494\n",
      "weighted avg       0.93      0.93      0.93     16494\n",
      "\n",
      "Misclassified samples: 1153\n"
     ]
    },
    {
     "data": {
      "text/plain": [
       "array([[2360,  302,   56],\n",
       "       [ 235, 3425,   96],\n",
       "       [  42,  422, 9556]])"
      ]
     },
     "execution_count": 25,
     "metadata": {},
     "output_type": "execute_result"
    }
   ],
   "source": [
    "y_test4_pred = pipe_knn.predict(X5)\n",
    "\n",
    "accuracy_score(y5, y_test4_pred)\n",
    "\n",
    "print(accuracy_score(y5, y_test4_pred))\n",
    "print(classification_report(y5, y_test4_pred))\n",
    "print('Misclassified samples: %d' % (y5 != y_test4_pred).sum())\n",
    "\n",
    "confusion_matrix(y5, y_test4_pred)"
   ]
  },
  {
   "cell_type": "code",
   "execution_count": 26,
   "id": "1acbe9ae",
   "metadata": {},
   "outputs": [
    {
     "data": {
      "image/png": "[encoded data removed]",
      "text/plain": [
       "<Figure size 432x288 with 2 Axes>"
      ]
     },
     "metadata": {
      "needs_background": "light"
     },
     "output_type": "display_data"
    }
   ],
   "source": [
    "class_names = np.unique(y5)\n",
    "target_names = ['safe', 'caution', 'danger']\n",
    "confmat = confusion_matrix(y5, y_test4_pred, labels=class_names)\n",
    "categories = ['safe', 'caution', 'danger']\n",
    "sns.heatmap(confmat, annot=True, fmt=\"d\",cmap='Blues', xticklabels= categories, yticklabels=categories)\n",
    "plt.savefig('plt.png', dpi=300, bbox_inches='tight')\n",
    "plt.show()"
   ]
  },
  {
   "cell_type": "code",
   "execution_count": null,
   "id": "fd7478e1",
   "metadata": {},
   "outputs": [],
   "source": []
  }
 ],
 "metadata": {
  "kernelspec": {
   "display_name": "Python 3 (ipykernel)",
   "language": "python",
   "name": "python3"
  },
  "language_info": {
   "codemirror_mode": {
    "name": "ipython",
    "version": 3
   },
   "file_extension": ".py",
   "mimetype": "text/x-python",
   "name": "python",
   "nbconvert_exporter": "python",
   "pygments_lexer": "ipython3",
   "version": "3.7.7"
  }
 },
 "nbformat": 4,
 "nbformat_minor": 5
}
