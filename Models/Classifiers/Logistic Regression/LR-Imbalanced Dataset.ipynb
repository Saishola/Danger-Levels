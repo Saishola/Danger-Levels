{
 "cells": [
  {
   "cell_type": "code",
   "execution_count": 1,
   "id": "33a213b8",
   "metadata": {},
   "outputs": [],
   "source": [
    "#Importing all the required libraries\n",
    "import pandas as pd \n",
    "import matplotlib.pyplot as plt\n",
    "import numpy as np\n",
    "from sklearn.model_selection import train_test_split\n",
    "from matplotlib.colors import ListedColormap\n",
    "from sklearn.preprocessing import StandardScaler\n",
    "from sklearn.pipeline import make_pipeline\n",
    "from sklearn.metrics import accuracy_score\n",
    "from sklearn.utils import resample\n",
    "from collections import Counter\n",
    "from imblearn.over_sampling import RandomOverSampler\n",
    "from sklearn.model_selection import StratifiedKFold\n",
    "from sklearn.svm import SVC\n",
    "from sklearn.metrics import accuracy_score, roc_auc_score, precision_score,recall_score\\\n",
    ",f1_score,classification_report,confusion_matrix\n",
    "import seaborn as sns\n",
    "from sklearn.linear_model import LogisticRegression"
   ]
  },
  {
   "cell_type": "code",
   "execution_count": 2,
   "id": "93fe17c3",
   "metadata": {},
   "outputs": [
    {
     "data": {
      "text/html": [
       "<div>\n",
       "<style scoped>\n",
       "    .dataframe tbody tr th:only-of-type {\n",
       "        vertical-align: middle;\n",
       "    }\n",
       "\n",
       "    .dataframe tbody tr th {\n",
       "        vertical-align: top;\n",
       "    }\n",
       "\n",
       "    .dataframe thead th {\n",
       "        text-align: right;\n",
       "    }\n",
       "</style>\n",
       "<table border=\"1\" class=\"dataframe\">\n",
       "  <thead>\n",
       "    <tr style=\"text-align: right;\">\n",
       "      <th></th>\n",
       "      <th>Mean 060 (°C)</th>\n",
       "      <th>54: TC_Smoke (°C)</th>\n",
       "      <th>187: CO_room (ppm)</th>\n",
       "      <th>labels</th>\n",
       "    </tr>\n",
       "  </thead>\n",
       "  <tbody>\n",
       "    <tr>\n",
       "      <th>0</th>\n",
       "      <td>9.643126</td>\n",
       "      <td>8.613041</td>\n",
       "      <td>695.565623</td>\n",
       "      <td>safe</td>\n",
       "    </tr>\n",
       "    <tr>\n",
       "      <th>1</th>\n",
       "      <td>9.638108</td>\n",
       "      <td>8.614577</td>\n",
       "      <td>693.682888</td>\n",
       "      <td>safe</td>\n",
       "    </tr>\n",
       "    <tr>\n",
       "      <th>2</th>\n",
       "      <td>9.629587</td>\n",
       "      <td>8.612079</td>\n",
       "      <td>686.368593</td>\n",
       "      <td>safe</td>\n",
       "    </tr>\n",
       "    <tr>\n",
       "      <th>3</th>\n",
       "      <td>9.633649</td>\n",
       "      <td>8.603408</td>\n",
       "      <td>690.206866</td>\n",
       "      <td>safe</td>\n",
       "    </tr>\n",
       "    <tr>\n",
       "      <th>4</th>\n",
       "      <td>10.224093</td>\n",
       "      <td>8.608649</td>\n",
       "      <td>704.980179</td>\n",
       "      <td>safe</td>\n",
       "    </tr>\n",
       "    <tr>\n",
       "      <th>...</th>\n",
       "      <td>...</td>\n",
       "      <td>...</td>\n",
       "      <td>...</td>\n",
       "      <td>...</td>\n",
       "    </tr>\n",
       "    <tr>\n",
       "      <th>65885</th>\n",
       "      <td>762.177943</td>\n",
       "      <td>35.854659</td>\n",
       "      <td>561.929191</td>\n",
       "      <td>danger</td>\n",
       "    </tr>\n",
       "    <tr>\n",
       "      <th>65886</th>\n",
       "      <td>762.140202</td>\n",
       "      <td>35.787602</td>\n",
       "      <td>561.493785</td>\n",
       "      <td>danger</td>\n",
       "    </tr>\n",
       "    <tr>\n",
       "      <th>65887</th>\n",
       "      <td>762.108967</td>\n",
       "      <td>35.693921</td>\n",
       "      <td>579.051064</td>\n",
       "      <td>danger</td>\n",
       "    </tr>\n",
       "    <tr>\n",
       "      <th>65888</th>\n",
       "      <td>762.075566</td>\n",
       "      <td>35.595093</td>\n",
       "      <td>576.439508</td>\n",
       "      <td>danger</td>\n",
       "    </tr>\n",
       "    <tr>\n",
       "      <th>65889</th>\n",
       "      <td>762.044406</td>\n",
       "      <td>35.569574</td>\n",
       "      <td>569.692250</td>\n",
       "      <td>danger</td>\n",
       "    </tr>\n",
       "  </tbody>\n",
       "</table>\n",
       "<p>65890 rows × 4 columns</p>\n",
       "</div>"
      ],
      "text/plain": [
       "       Mean 060 (°C)  54: TC_Smoke (°C)  187: CO_room (ppm)  labels\n",
       "0           9.643126           8.613041          695.565623    safe\n",
       "1           9.638108           8.614577          693.682888    safe\n",
       "2           9.629587           8.612079          686.368593    safe\n",
       "3           9.633649           8.603408          690.206866    safe\n",
       "4          10.224093           8.608649          704.980179    safe\n",
       "...              ...                ...                 ...     ...\n",
       "65885     762.177943          35.854659          561.929191  danger\n",
       "65886     762.140202          35.787602          561.493785  danger\n",
       "65887     762.108967          35.693921          579.051064  danger\n",
       "65888     762.075566          35.595093          576.439508  danger\n",
       "65889     762.044406          35.569574          569.692250  danger\n",
       "\n",
       "[65890 rows x 4 columns]"
      ]
     },
     "execution_count": 2,
     "metadata": {},
     "output_type": "execute_result"
    }
   ],
   "source": [
    "# Importing the dataset\n",
    "#Downloading the dataset, creating dataframe\n",
    "df = pd.read_excel(\"env_data.xlsx\")\n",
    "\n",
    "#Remove temperature readings at 260cm\n",
    "df = df.drop(['Mean 260 (°C)'], axis=1)\n",
    "df"
   ]
  },
  {
   "cell_type": "code",
   "execution_count": 3,
   "id": "ee48fa95",
   "metadata": {},
   "outputs": [
    {
     "name": "stdout",
     "output_type": "stream",
     "text": [
      "Number of safe, caution and danger respectively in target: [ 9532 11924 44434]\n"
     ]
    }
   ],
   "source": [
    "# Mapping non-numeric columnns (ie target column)\n",
    "target_mapping = {'danger':2, 'caution':1, 'safe':0}\n",
    "\n",
    "df['labels'] = df['labels'].map(target_mapping)\n",
    "\n",
    "# Separating data & target information\n",
    "X = df.iloc[:, :3]\n",
    "y = df.iloc [:, -1]\n",
    "\n",
    "print('Number of safe, caution and danger respectively in target:', np.bincount(y))"
   ]
  },
  {
   "cell_type": "code",
   "execution_count": 4,
   "id": "96cfcf42",
   "metadata": {},
   "outputs": [
    {
     "name": "stdout",
     "output_type": "stream",
     "text": [
      "Training target statistics: Counter({2: 31104, 1: 8347, 0: 6672})\n",
      "Testing target statistics: Counter({2: 13330, 1: 3577, 0: 2860})\n"
     ]
    }
   ],
   "source": [
    "#Split dataset into training and testing dataset\n",
    "X_train, X_test, y_train, y_test = train_test_split(X, y, test_size=0.3, random_state=1, shuffle=True, stratify=y)\n",
    "print(f\"Training target statistics: {Counter(y_train)}\")\n",
    "print(f\"Testing target statistics: {Counter(y_test)}\")"
   ]
  },
  {
   "cell_type": "code",
   "execution_count": 5,
   "id": "8edb418e",
   "metadata": {},
   "outputs": [],
   "source": [
    "#create pipeline for LR\n",
    "pipe_logreg = make_pipeline(StandardScaler(),\n",
    "                             LogisticRegression(random_state=1, C=100, penalty= 'l1', solver='liblinear', max_iter=2000, class_weight=\"balanced\"),\n",
    "                            )"
   ]
  },
  {
   "cell_type": "code",
   "execution_count": 6,
   "id": "3a2e2adc",
   "metadata": {},
   "outputs": [],
   "source": [
    "# Cross validation (cv)\n",
    "k_fold = StratifiedKFold(n_splits=10)"
   ]
  },
  {
   "cell_type": "code",
   "execution_count": 7,
   "id": "85c47e0c",
   "metadata": {},
   "outputs": [],
   "source": [
    "#create a function that trains the model and returns result using stratified 10 folds cv\n",
    "def train_model(X_train, y_train, classifier_pipeline):\n",
    "\n",
    "    training_result = []\n",
    "    validation_result=[]\n",
    "\n",
    "    i=1\n",
    "    for  train_index, val_index in k_fold.split(X_train, y_train):\n",
    "        X_res_fold, y_res_fold = X_train.values[train_index,:], y_train.values[train_index]\n",
    "        X_val_fold, y_val_fold = X_train.values[val_index,:], y_train.values[val_index]\n",
    "\n",
    "        #for each fold: training a logistic regression model using the \n",
    "        #pipeline of steps\n",
    "        classifier_pipeline.fit(X_res_fold, y_res_fold)\n",
    "\n",
    "        #get predictions and predictions probabilities\n",
    "        y_res_predictions=classifier_pipeline.predict(X_res_fold)\n",
    "        y_val_predictions = classifier_pipeline.predict(X_val_fold)\n",
    "\n",
    "        y_res_probabilities= classifier_pipeline.predict_proba(X_res_fold)\n",
    "        y_val_probabilities= classifier_pipeline.predict_proba(X_val_fold)\n",
    "\n",
    "        #print auc score \n",
    "        train_auc = roc_auc_score(y_res_fold,y_res_probabilities, multi_class=\"ovr\")\n",
    "        valid_auc = roc_auc_score(y_val_fold, y_val_probabilities, multi_class=\"ovr\")\n",
    "\n",
    "        print(f\"train auc score:{train_auc:.2f}, validation auc score:{valid_auc:.2f}\")\n",
    "\n",
    "        #get accuracy score\n",
    "        train_acc = accuracy_score(y_res_fold, y_res_predictions)\n",
    "        val_acc = accuracy_score(y_val_fold, y_val_predictions)\n",
    "\n",
    "        training_result.append([train_auc,train_acc])\n",
    "        validation_result.append([valid_auc,val_acc])\n",
    "        print(f\"train_accuracy:{train_acc:.2f}, validation_accuracy:{val_acc:.2f}\")\n",
    "\n",
    "        print(\"\\n\")\n",
    "        print(f\"fold{i} completed\")\n",
    "        i+=1\n",
    "    \n",
    "    return training_result, validation_result"
   ]
  },
  {
   "cell_type": "code",
   "execution_count": 8,
   "id": "0a9f79fb",
   "metadata": {},
   "outputs": [
    {
     "name": "stderr",
     "output_type": "stream",
     "text": [
      "/Users/adenreleishola/opt/anaconda3/envs/tfs/lib/python3.7/site-packages/sklearn/svm/_base.py:1208: ConvergenceWarning: Liblinear failed to converge, increase the number of iterations.\n",
      "  ConvergenceWarning,\n"
     ]
    },
    {
     "name": "stdout",
     "output_type": "stream",
     "text": [
      "train auc score:0.99, validation auc score:0.99\n",
      "train_accuracy:0.96, validation_accuracy:0.95\n",
      "\n",
      "\n",
      "fold1 completed\n"
     ]
    },
    {
     "name": "stderr",
     "output_type": "stream",
     "text": [
      "/Users/adenreleishola/opt/anaconda3/envs/tfs/lib/python3.7/site-packages/sklearn/svm/_base.py:1208: ConvergenceWarning: Liblinear failed to converge, increase the number of iterations.\n",
      "  ConvergenceWarning,\n"
     ]
    },
    {
     "name": "stdout",
     "output_type": "stream",
     "text": [
      "train auc score:0.99, validation auc score:0.99\n",
      "train_accuracy:0.96, validation_accuracy:0.96\n",
      "\n",
      "\n",
      "fold2 completed\n"
     ]
    },
    {
     "name": "stderr",
     "output_type": "stream",
     "text": [
      "/Users/adenreleishola/opt/anaconda3/envs/tfs/lib/python3.7/site-packages/sklearn/svm/_base.py:1208: ConvergenceWarning: Liblinear failed to converge, increase the number of iterations.\n",
      "  ConvergenceWarning,\n"
     ]
    },
    {
     "name": "stdout",
     "output_type": "stream",
     "text": [
      "train auc score:0.99, validation auc score:0.99\n",
      "train_accuracy:0.96, validation_accuracy:0.96\n",
      "\n",
      "\n",
      "fold3 completed\n"
     ]
    },
    {
     "name": "stderr",
     "output_type": "stream",
     "text": [
      "/Users/adenreleishola/opt/anaconda3/envs/tfs/lib/python3.7/site-packages/sklearn/svm/_base.py:1208: ConvergenceWarning: Liblinear failed to converge, increase the number of iterations.\n",
      "  ConvergenceWarning,\n"
     ]
    },
    {
     "name": "stdout",
     "output_type": "stream",
     "text": [
      "train auc score:0.99, validation auc score:0.99\n",
      "train_accuracy:0.96, validation_accuracy:0.96\n",
      "\n",
      "\n",
      "fold4 completed\n"
     ]
    },
    {
     "name": "stderr",
     "output_type": "stream",
     "text": [
      "/Users/adenreleishola/opt/anaconda3/envs/tfs/lib/python3.7/site-packages/sklearn/svm/_base.py:1208: ConvergenceWarning: Liblinear failed to converge, increase the number of iterations.\n",
      "  ConvergenceWarning,\n"
     ]
    },
    {
     "name": "stdout",
     "output_type": "stream",
     "text": [
      "train auc score:0.99, validation auc score:0.99\n",
      "train_accuracy:0.96, validation_accuracy:0.96\n",
      "\n",
      "\n",
      "fold5 completed\n"
     ]
    },
    {
     "name": "stderr",
     "output_type": "stream",
     "text": [
      "/Users/adenreleishola/opt/anaconda3/envs/tfs/lib/python3.7/site-packages/sklearn/svm/_base.py:1208: ConvergenceWarning: Liblinear failed to converge, increase the number of iterations.\n",
      "  ConvergenceWarning,\n"
     ]
    },
    {
     "name": "stdout",
     "output_type": "stream",
     "text": [
      "train auc score:0.99, validation auc score:0.99\n",
      "train_accuracy:0.96, validation_accuracy:0.96\n",
      "\n",
      "\n",
      "fold6 completed\n"
     ]
    },
    {
     "name": "stderr",
     "output_type": "stream",
     "text": [
      "/Users/adenreleishola/opt/anaconda3/envs/tfs/lib/python3.7/site-packages/sklearn/svm/_base.py:1208: ConvergenceWarning: Liblinear failed to converge, increase the number of iterations.\n",
      "  ConvergenceWarning,\n"
     ]
    },
    {
     "name": "stdout",
     "output_type": "stream",
     "text": [
      "train auc score:0.99, validation auc score:0.99\n",
      "train_accuracy:0.96, validation_accuracy:0.96\n",
      "\n",
      "\n",
      "fold7 completed\n"
     ]
    },
    {
     "name": "stderr",
     "output_type": "stream",
     "text": [
      "/Users/adenreleishola/opt/anaconda3/envs/tfs/lib/python3.7/site-packages/sklearn/svm/_base.py:1208: ConvergenceWarning: Liblinear failed to converge, increase the number of iterations.\n",
      "  ConvergenceWarning,\n"
     ]
    },
    {
     "name": "stdout",
     "output_type": "stream",
     "text": [
      "train auc score:0.99, validation auc score:0.99\n",
      "train_accuracy:0.96, validation_accuracy:0.96\n",
      "\n",
      "\n",
      "fold8 completed\n"
     ]
    },
    {
     "name": "stderr",
     "output_type": "stream",
     "text": [
      "/Users/adenreleishola/opt/anaconda3/envs/tfs/lib/python3.7/site-packages/sklearn/svm/_base.py:1208: ConvergenceWarning: Liblinear failed to converge, increase the number of iterations.\n",
      "  ConvergenceWarning,\n"
     ]
    },
    {
     "name": "stdout",
     "output_type": "stream",
     "text": [
      "train auc score:0.99, validation auc score:0.99\n",
      "train_accuracy:0.96, validation_accuracy:0.95\n",
      "\n",
      "\n",
      "fold9 completed\n",
      "train auc score:0.99, validation auc score:0.99\n",
      "train_accuracy:0.96, validation_accuracy:0.96\n",
      "\n",
      "\n",
      "fold10 completed\n",
      "\n",
      "\n",
      "Result Summary\n",
      "Average Train auc :0.99+/-0.00\n",
      "Average validation auc :0.99+/-0.00\n",
      "Average Train accuracy :0.96+/-0.00\n",
      "Average validation accuracy :0.96+/-0.00\n"
     ]
    },
    {
     "name": "stderr",
     "output_type": "stream",
     "text": [
      "/Users/adenreleishola/opt/anaconda3/envs/tfs/lib/python3.7/site-packages/sklearn/svm/_base.py:1208: ConvergenceWarning: Liblinear failed to converge, increase the number of iterations.\n",
      "  ConvergenceWarning,\n"
     ]
    }
   ],
   "source": [
    "#train model\n",
    "training_result, validation_result=train_model(X_train, y_train, pipe_logreg)\n",
    "    \n",
    "print(\"\\n\")\n",
    "print(\"Result Summary\")\n",
    "print(f\"Average Train auc :{np.mean([value[0]for value in training_result]):.2f}+/-{np.std([value[0]for value in training_result]):.2f}\")\n",
    "      \n",
    "print(f\"Average validation auc :{np.mean([value[0]for value in validation_result]):.2f}+/-{np.std([value[0]for value in validation_result]):.2f}\")\n",
    "\n",
    "print(f\"Average Train accuracy :{np.mean([value[1]for value in training_result]):.2f}+/-{np.std([value[1]for value in training_result]):.2f}\")\n",
    "      \n",
    "print(f\"Average validation accuracy :{np.mean([value[1]for value in validation_result]):.2f}+/-{np.std([value[1]for value in validation_result]):.2f}\")"
   ]
  },
  {
   "cell_type": "code",
   "execution_count": 9,
   "id": "8403e9f0",
   "metadata": {},
   "outputs": [
    {
     "name": "stderr",
     "output_type": "stream",
     "text": [
      "/Users/adenreleishola/opt/anaconda3/envs/tfs/lib/python3.7/site-packages/sklearn/svm/_base.py:1208: ConvergenceWarning: Liblinear failed to converge, increase the number of iterations.\n",
      "  ConvergenceWarning,\n"
     ]
    }
   ],
   "source": [
    "#retrain with best parameters\n",
    "pipe_logreg.fit(X_train, y_train)\n",
    "\n",
    "y_test_pred = pipe_logreg.predict(X_test)\n",
    "y_test_probabilities = pipe_logreg.predict_proba(X_test)"
   ]
  },
  {
   "cell_type": "code",
   "execution_count": 10,
   "id": "12b13822",
   "metadata": {},
   "outputs": [
    {
     "data": {
      "text/plain": [
       "0.9566955026053524"
      ]
     },
     "execution_count": 10,
     "metadata": {},
     "output_type": "execute_result"
    }
   ],
   "source": [
    "accuracy_score(y_test,y_test_pred)"
   ]
  },
  {
   "cell_type": "code",
   "execution_count": 11,
   "id": "87a58ef6",
   "metadata": {},
   "outputs": [
    {
     "name": "stdout",
     "output_type": "stream",
     "text": [
      "              precision    recall  f1-score   support\n",
      "\n",
      "           0       0.93      0.92      0.93      2860\n",
      "           1       0.85      0.93      0.89      3577\n",
      "           2       0.99      0.97      0.98     13330\n",
      "\n",
      "    accuracy                           0.96     19767\n",
      "   macro avg       0.93      0.94      0.93     19767\n",
      "weighted avg       0.96      0.96      0.96     19767\n",
      "\n",
      "Misclassified samples: 856\n"
     ]
    }
   ],
   "source": [
    "print(classification_report(y_test, y_test_pred))\n",
    "print('Misclassified samples: %d' % (y_test != y_test_pred).sum())"
   ]
  },
  {
   "cell_type": "code",
   "execution_count": 12,
   "id": "5f70bb58",
   "metadata": {},
   "outputs": [
    {
     "data": {
      "text/plain": [
       "array([[ 2645,   215,     0],\n",
       "       [  185,  3311,    81],\n",
       "       [    0,   375, 12955]])"
      ]
     },
     "execution_count": 12,
     "metadata": {},
     "output_type": "execute_result"
    }
   ],
   "source": [
    "confusion_matrix(y_test,y_test_pred)"
   ]
  },
  {
   "cell_type": "code",
   "execution_count": 13,
   "id": "48642216",
   "metadata": {},
   "outputs": [
    {
     "data": {
      "image/png": "[encoded data removed]",
      "text/plain": [
       "<Figure size 432x288 with 2 Axes>"
      ]
     },
     "metadata": {
      "needs_background": "light"
     },
     "output_type": "display_data"
    }
   ],
   "source": [
    "#Confusion Matrix\n",
    "\n",
    "class_names = np.unique(y_test)\n",
    "target_names = ['safe', 'caution', 'danger']\n",
    "confmat = confusion_matrix(y_test, y_test_pred, labels=class_names)\n",
    "categories = ['safe', 'caution', 'danger']\n",
    "sns.heatmap(confmat, annot=True, fmt=\"d\",cmap='Blues', xticklabels= categories, yticklabels=categories)\n",
    "plt.savefig('plt.png', dpi=300, bbox_inches='tight')\n",
    "plt.show()"
   ]
  },
  {
   "cell_type": "markdown",
   "id": "bfbb339c",
   "metadata": {},
   "source": [
    "# Test"
   ]
  },
  {
   "cell_type": "code",
   "execution_count": 14,
   "id": "81985337",
   "metadata": {},
   "outputs": [],
   "source": [
    "# Importing the dataset\n",
    "#Downloading the dataset, creating dataframe\n",
    "df2 = pd.read_excel(\"Test_Data_Exp2.xlsx\")\n",
    "df2 = df2.drop(['Mean 260 (°C)'], axis=1)"
   ]
  },
  {
   "cell_type": "code",
   "execution_count": 15,
   "id": "01c39ab4",
   "metadata": {},
   "outputs": [
    {
     "name": "stdout",
     "output_type": "stream",
     "text": [
      "Number of safe, caution and danger respectively in target: [2762 4099 1698]\n"
     ]
    }
   ],
   "source": [
    "# Mapping non-numeric columnns (ie target column)\n",
    "target_mapping = {'danger':2, 'caution':1, 'safe':0}\n",
    "\n",
    "df2['labels'] = df2['labels'].map(target_mapping)\n",
    "\n",
    "# Separating data & target information\n",
    "X2 = df2.iloc[:, :3]\n",
    "y2 = df2.iloc [:, -1]\n",
    "\n",
    "print('Number of safe, caution and danger respectively in target:', np.bincount(y2))"
   ]
  },
  {
   "cell_type": "code",
   "execution_count": 16,
   "id": "63fff227",
   "metadata": {},
   "outputs": [
    {
     "name": "stdout",
     "output_type": "stream",
     "text": [
      "0.5230751255987849\n",
      "              precision    recall  f1-score   support\n",
      "\n",
      "           0       0.85      1.00      0.92      2762\n",
      "           1       1.00      0.00      0.01      4099\n",
      "           2       0.32      1.00      0.49      1698\n",
      "\n",
      "    accuracy                           0.52      8559\n",
      "   macro avg       0.72      0.67      0.47      8559\n",
      "weighted avg       0.82      0.52      0.40      8559\n",
      "\n",
      "Misclassified samples: 4082\n"
     ]
    },
    {
     "data": {
      "text/plain": [
       "array([[2762,    0,    0],\n",
       "       [ 506,   17, 3576],\n",
       "       [   0,    0, 1698]])"
      ]
     },
     "execution_count": 16,
     "metadata": {},
     "output_type": "execute_result"
    }
   ],
   "source": [
    "y_test1_pred = pipe_logreg.predict(X2)\n",
    "\n",
    "accuracy_score(y2, y_test1_pred)\n",
    "\n",
    "print(accuracy_score(y2, y_test1_pred))\n",
    "print(classification_report(y2, y_test1_pred))\n",
    "print('Misclassified samples: %d' % (y2 != y_test1_pred).sum())\n",
    "\n",
    "confusion_matrix(y2, y_test1_pred)"
   ]
  },
  {
   "cell_type": "code",
   "execution_count": 17,
   "id": "1051ccef",
   "metadata": {},
   "outputs": [
    {
     "data": {
      "image/png": "[encoded data removed]",
      "text/plain": [
       "<Figure size 432x288 with 2 Axes>"
      ]
     },
     "metadata": {
      "needs_background": "light"
     },
     "output_type": "display_data"
    }
   ],
   "source": [
    "class_names = np.unique(y2)\n",
    "target_names = ['safe', 'caution', 'danger']\n",
    "confmat = confusion_matrix(y2, y_test1_pred, labels=class_names)\n",
    "categories = ['safe', 'caution', 'danger']\n",
    "sns.heatmap(confmat, annot=True, fmt=\"d\",cmap='Blues', xticklabels= categories, yticklabels=categories)\n",
    "plt.savefig('plt.png', dpi=300, bbox_inches='tight')\n",
    "plt.show()"
   ]
  },
  {
   "cell_type": "code",
   "execution_count": 18,
   "id": "7d8f811a",
   "metadata": {},
   "outputs": [],
   "source": [
    "# Importing the dataset\n",
    "#Downloading the dataset, creating dataframe\n",
    "df3 = pd.read_excel(\"Exp2_mean.xlsx\")\n",
    "df3 = df3.drop(['Mean 260 (°C)'], axis=1)"
   ]
  },
  {
   "cell_type": "code",
   "execution_count": 19,
   "id": "8394c772",
   "metadata": {},
   "outputs": [
    {
     "name": "stdout",
     "output_type": "stream",
     "text": [
      "Number of safe, caution and danger respectively in target: [2433 4066 9995]\n"
     ]
    }
   ],
   "source": [
    "# Mapping non-numeric columnns (ie target column)\n",
    "target_mapping = {'danger':2, 'caution':1, 'safe':0}\n",
    "\n",
    "df3['labels'] = df3['labels'].map(target_mapping)\n",
    "\n",
    "# Separating data & target information\n",
    "X3 = df3.iloc[:, :3]\n",
    "y3 = df3.iloc [:, -1]\n",
    "\n",
    "print('Number of safe, caution and danger respectively in target:', np.bincount(y3))"
   ]
  },
  {
   "cell_type": "code",
   "execution_count": 20,
   "id": "3186ba97",
   "metadata": {},
   "outputs": [
    {
     "name": "stdout",
     "output_type": "stream",
     "text": [
      "0.9414332484539832\n",
      "              precision    recall  f1-score   support\n",
      "\n",
      "           0       0.92      0.73      0.81      2433\n",
      "           1       0.83      0.96      0.89      4066\n",
      "           2       1.00      0.99      0.99      9995\n",
      "\n",
      "    accuracy                           0.94     16494\n",
      "   macro avg       0.92      0.89      0.90     16494\n",
      "weighted avg       0.95      0.94      0.94     16494\n",
      "\n",
      "Misclassified samples: 966\n"
     ]
    },
    {
     "data": {
      "text/plain": [
       "array([[1773,  660,    0],\n",
       "       [ 152, 3904,   10],\n",
       "       [   0,  144, 9851]])"
      ]
     },
     "execution_count": 20,
     "metadata": {},
     "output_type": "execute_result"
    }
   ],
   "source": [
    "y_test2_pred = pipe_logreg.predict(X3)\n",
    "\n",
    "accuracy_score(y3, y_test2_pred)\n",
    "\n",
    "print(accuracy_score(y3, y_test2_pred))\n",
    "print(classification_report(y3, y_test2_pred))\n",
    "print('Misclassified samples: %d' % (y3 != y_test2_pred).sum())\n",
    "\n",
    "confusion_matrix(y3, y_test2_pred)"
   ]
  },
  {
   "cell_type": "code",
   "execution_count": 21,
   "id": "2d549bdf",
   "metadata": {},
   "outputs": [
    {
     "data": {
      "image/png": "[encoded data removed]",
      "text/plain": [
       "<Figure size 432x288 with 2 Axes>"
      ]
     },
     "metadata": {
      "needs_background": "light"
     },
     "output_type": "display_data"
    }
   ],
   "source": [
    "class_names = np.unique(y3)\n",
    "target_names = ['safe', 'caution', 'danger']\n",
    "confmat = confusion_matrix(y3, y_test2_pred, labels=class_names)\n",
    "categories = ['safe', 'caution', 'danger']\n",
    "sns.heatmap(confmat, annot=True, fmt=\"d\",cmap='Blues', xticklabels= categories, yticklabels=categories)\n",
    "plt.savefig('plt.png', dpi=300, bbox_inches='tight')\n",
    "plt.show()"
   ]
  },
  {
   "cell_type": "code",
   "execution_count": 22,
   "id": "4c7656af",
   "metadata": {},
   "outputs": [],
   "source": [
    "# Importing the dataset\n",
    "#Downloading the dataset, creating dataframe\n",
    "df4 = pd.read_excel(\"Data_Gen_Exp1_2.xlsx\")\n",
    "df4 = df4.drop(['260 (°C)'], axis=1)"
   ]
  },
  {
   "cell_type": "code",
   "execution_count": 23,
   "id": "0ec10b59",
   "metadata": {},
   "outputs": [
    {
     "name": "stdout",
     "output_type": "stream",
     "text": [
      "Number of safe, caution and danger respectively in target: [1328 6539 3892]\n"
     ]
    }
   ],
   "source": [
    "# Mapping non-numeric columnns (ie target column)\n",
    "target_mapping = {'danger':2, 'caution':1, 'safe':0}\n",
    "\n",
    "df4['labels'] = df4['labels'].map(target_mapping)\n",
    "\n",
    "# Separating data & target information\n",
    "X4 = df4.iloc[:, :3]\n",
    "y4 = df4.iloc [:, -1]\n",
    "\n",
    "print('Number of safe, caution and danger respectively in target:', np.bincount(y4))"
   ]
  },
  {
   "cell_type": "code",
   "execution_count": 24,
   "id": "725d87ea",
   "metadata": {},
   "outputs": [
    {
     "name": "stdout",
     "output_type": "stream",
     "text": [
      "0.9438727782974743\n",
      "              precision    recall  f1-score   support\n",
      "\n",
      "           0       0.91      1.00      0.95      1328\n",
      "           1       0.93      0.98      0.95      6539\n",
      "           2       0.99      0.87      0.93      3892\n",
      "\n",
      "    accuracy                           0.94     11759\n",
      "   macro avg       0.94      0.95      0.94     11759\n",
      "weighted avg       0.95      0.94      0.94     11759\n",
      "\n",
      "Misclassified samples: 660\n"
     ]
    },
    {
     "name": "stderr",
     "output_type": "stream",
     "text": [
      "/Users/adenreleishola/opt/anaconda3/envs/tfs/lib/python3.7/site-packages/sklearn/base.py:493: FutureWarning: The feature names should match those that were passed during fit. Starting version 1.2, an error will be raised.\n",
      "Feature names unseen at fit time:\n",
      "- 060 (°C)\n",
      "Feature names seen at fit time, yet now missing:\n",
      "- Mean 060 (°C)\n",
      "\n",
      "  warnings.warn(message, FutureWarning)\n"
     ]
    },
    {
     "data": {
      "text/plain": [
       "array([[1326,    2,    0],\n",
       "       [ 126, 6394,   19],\n",
       "       [   0,  513, 3379]])"
      ]
     },
     "execution_count": 24,
     "metadata": {},
     "output_type": "execute_result"
    }
   ],
   "source": [
    "y_test3_pred = pipe_logreg.predict(X4)\n",
    "\n",
    "accuracy_score(y4, y_test3_pred)\n",
    "\n",
    "print(accuracy_score(y4, y_test3_pred))\n",
    "print(classification_report(y4, y_test3_pred))\n",
    "print('Misclassified samples: %d' % (y4 != y_test3_pred).sum())\n",
    "\n",
    "confusion_matrix(y4, y_test3_pred)"
   ]
  },
  {
   "cell_type": "code",
   "execution_count": 25,
   "id": "387d219c",
   "metadata": {},
   "outputs": [
    {
     "data": {
      "image/png": "[encoded data removed]",
      "text/plain": [
       "<Figure size 432x288 with 2 Axes>"
      ]
     },
     "metadata": {
      "needs_background": "light"
     },
     "output_type": "display_data"
    }
   ],
   "source": [
    "class_names = np.unique(y4)\n",
    "target_names = ['safe', 'caution', 'danger']\n",
    "confmat = confusion_matrix(y4, y_test3_pred, labels=class_names)\n",
    "categories = ['safe', 'caution', 'danger']\n",
    "sns.heatmap(confmat, annot=True, fmt=\"d\",cmap='Blues', xticklabels= categories, yticklabels=categories)\n",
    "plt.savefig('plt.png', dpi=300, bbox_inches='tight')\n",
    "plt.show()"
   ]
  },
  {
   "cell_type": "code",
   "execution_count": 26,
   "id": "ec74d85b",
   "metadata": {},
   "outputs": [],
   "source": [
    "# Importing the dataset\n",
    "#Downloading the dataset, creating dataframe\n",
    "df5 = pd.read_excel(\"Data_Gen_Exp3_8.xlsx\")\n",
    "df5 = df5.drop(['260 (°C)'], axis=1)"
   ]
  },
  {
   "cell_type": "code",
   "execution_count": 27,
   "id": "3fc9a49a",
   "metadata": {},
   "outputs": [
    {
     "name": "stdout",
     "output_type": "stream",
     "text": [
      "Number of safe, caution and danger respectively in target: [ 2718  3756 10020]\n"
     ]
    }
   ],
   "source": [
    "# Mapping non-numeric columnns (ie target column)\n",
    "target_mapping = {'danger':2, 'caution':1, 'safe':0}\n",
    "\n",
    "df5['labels'] = df5['labels'].map(target_mapping)\n",
    "\n",
    "# Separating data & target information\n",
    "X5 = df5.iloc[:, :3]\n",
    "y5 = df5.iloc [:, -1]\n",
    "\n",
    "print('Number of safe, caution and danger respectively in target:', np.bincount(y5))"
   ]
  },
  {
   "cell_type": "code",
   "execution_count": 28,
   "id": "31109933",
   "metadata": {},
   "outputs": [
    {
     "name": "stdout",
     "output_type": "stream",
     "text": [
      "0.9394325209166969\n",
      "              precision    recall  f1-score   support\n",
      "\n",
      "           0       0.92      0.77      0.84      2718\n",
      "           1       0.81      0.95      0.88      3756\n",
      "           2       1.00      0.98      0.99     10020\n",
      "\n",
      "    accuracy                           0.94     16494\n",
      "   macro avg       0.91      0.90      0.90     16494\n",
      "weighted avg       0.94      0.94      0.94     16494\n",
      "\n",
      "Misclassified samples: 999\n"
     ]
    },
    {
     "name": "stderr",
     "output_type": "stream",
     "text": [
      "/Users/adenreleishola/opt/anaconda3/envs/tfs/lib/python3.7/site-packages/sklearn/base.py:493: FutureWarning: The feature names should match those that were passed during fit. Starting version 1.2, an error will be raised.\n",
      "Feature names unseen at fit time:\n",
      "- 060 (°C)\n",
      "Feature names seen at fit time, yet now missing:\n",
      "- Mean 060 (°C)\n",
      "\n",
      "  warnings.warn(message, FutureWarning)\n"
     ]
    },
    {
     "data": {
      "text/plain": [
       "array([[2098,  620,    0],\n",
       "       [ 177, 3567,   12],\n",
       "       [   0,  190, 9830]])"
      ]
     },
     "execution_count": 28,
     "metadata": {},
     "output_type": "execute_result"
    }
   ],
   "source": [
    "y_test4_pred = pipe_logreg.predict(X5)\n",
    "\n",
    "accuracy_score(y5, y_test4_pred)\n",
    "\n",
    "print(accuracy_score(y5, y_test4_pred))\n",
    "print(classification_report(y5, y_test4_pred))\n",
    "print('Misclassified samples: %d' % (y5 != y_test4_pred).sum())\n",
    "\n",
    "confusion_matrix(y5, y_test4_pred)"
   ]
  },
  {
   "cell_type": "code",
   "execution_count": 29,
   "id": "c59db4be",
   "metadata": {},
   "outputs": [
    {
     "data": {
      "image/png": "[encoded data removed]",
      "text/plain": [
       "<Figure size 432x288 with 2 Axes>"
      ]
     },
     "metadata": {
      "needs_background": "light"
     },
     "output_type": "display_data"
    }
   ],
   "source": [
    "class_names = np.unique(y5)\n",
    "target_names = ['safe', 'caution', 'danger']\n",
    "confmat = confusion_matrix(y5, y_test4_pred, labels=class_names)\n",
    "categories = ['safe', 'caution', 'danger']\n",
    "sns.heatmap(confmat, annot=True, fmt=\"d\",cmap='Blues', xticklabels= categories, yticklabels=categories)\n",
    "plt.savefig('plt.png', dpi=300, bbox_inches='tight')\n",
    "plt.show()"
   ]
  },
  {
   "cell_type": "code",
   "execution_count": null,
   "id": "1f9a97f2",
   "metadata": {},
   "outputs": [],
   "source": []
  }
 ],
 "metadata": {
  "kernelspec": {
   "display_name": "Python 3 (ipykernel)",
   "language": "python",
   "name": "python3"
  },
  "language_info": {
   "codemirror_mode": {
    "name": "ipython",
    "version": 3
   },
   "file_extension": ".py",
   "mimetype": "text/x-python",
   "name": "python",
   "nbconvert_exporter": "python",
   "pygments_lexer": "ipython3",
   "version": "3.7.7"
  }
 },
 "nbformat": 4,
 "nbformat_minor": 5
}
